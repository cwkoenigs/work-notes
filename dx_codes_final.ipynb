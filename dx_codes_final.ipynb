{
  "nbformat": 4,
  "nbformat_minor": 0,
  "metadata": {
    "colab": {
      "name": "dx_codes_final",
      "provenance": [],
      "collapsed_sections": [],
      "include_colab_link": true
    },
    "kernelspec": {
      "name": "python3",
      "display_name": "Python 3"
    }
  },
  "cells": [
    {
      "cell_type": "markdown",
      "metadata": {
        "id": "view-in-github",
        "colab_type": "text"
      },
      "source": [
        "<a href=\"https://colab.research.google.com/github/cwkoenigs/work-notes/blob/master/dx_codes_final.ipynb\" target=\"_parent\"><img src=\"https://colab.research.google.com/assets/colab-badge.svg\" alt=\"Open In Colab\"/></a>"
      ]
    },
    {
      "cell_type": "code",
      "metadata": {
        "id": "VxoDnag4JVwm",
        "colab_type": "code",
        "outputId": "fdf50dd3-9406-472c-fa90-f60521cf52a8",
        "colab": {
          "base_uri": "https://localhost:8080/",
          "height": 50
        }
      },
      "source": [
        "# import dependencies and libraries\n",
        "import pandas as pd\n",
        "import numpy as np\n",
        "import io\n",
        "import os\n",
        "import csv\n",
        "import math\n",
        "!pip install hccpy\n",
        "from pandas.io.json import json_normalize"
      ],
      "execution_count": 0,
      "outputs": [
        {
          "output_type": "stream",
          "text": [
            "Requirement already satisfied: hccpy in /usr/local/lib/python3.6/dist-packages (0.0.9)\n",
            "Requirement already satisfied: numpy in /usr/local/lib/python3.6/dist-packages (from hccpy) (1.17.3)\n"
          ],
          "name": "stdout"
        }
      ]
    },
    {
      "cell_type": "code",
      "metadata": {
        "id": "LkURQgc5JgPR",
        "colab_type": "code",
        "colab": {}
      },
      "source": [
        "from hccpy.hcc import HCCEngine\n",
        "he = HCCEngine(\"22\",\"2018\")"
      ],
      "execution_count": 0,
      "outputs": []
    },
    {
      "cell_type": "code",
      "metadata": {
        "id": "GJJw5OgUJhUO",
        "colab_type": "code",
        "colab": {}
      },
      "source": [
        "\n",
        "df = pd.read_csv('patients.csv')\n"
      ],
      "execution_count": 0,
      "outputs": []
    },
    {
      "cell_type": "code",
      "metadata": {
        "id": "Eg11xzDuJzu1",
        "colab_type": "code",
        "colab": {}
      },
      "source": [
        "class patient:\n",
        "  def __init__(self, ID, sex, age, dx_codes):\n",
        "    self.ID = ID\n",
        "    self.sex = sex\n",
        "    self.age = age\n",
        "    self.dx_codes = dx_codes\n",
        "  def __str__(self):\n",
        "    return \"%s %s %s %s\" % (self.ID, self.sex, self.age, self.dx_codes)\n",
        "risk = []\n",
        "\n",
        "for row in df.head().itertuples():\n",
        "#  print(row)\n",
        "  if type(row.dx_codes) is str:\n",
        "    codes = row.dx_codes\n",
        "    split_codes = codes.split(';')\n",
        "#    print(split_codes)\n",
        "    new_patient = patient(row.ID, row.Sex, row.Age, split_codes)\n",
        "  else:\n",
        "    new_patient = patient(row.ID, row.Sex, row.Age, row.dx_codes)\n",
        "  risk.append(new_patient)"
      ],
      "execution_count": 0,
      "outputs": []
    },
    {
      "cell_type": "code",
      "metadata": {
        "id": "j7QjqwKWJ1EH",
        "colab_type": "code",
        "colab": {}
      },
      "source": [
        "results = []\n",
        "\n",
        "for patient in risk:\n",
        "   rp = he.profile(patient.dx_codes, patient.age, patient.sex)\n",
        "   results.append(rp)\n",
        "results = json_normalize(results)\n",
        "# display(results)"
      ],
      "execution_count": 0,
      "outputs": []
    },
    {
      "cell_type": "code",
      "metadata": {
        "id": "0t700tSFJ4Q6",
        "colab_type": "code",
        "outputId": "2b4c1726-8d3e-4dbe-cb52-db935765fb43",
        "colab": {
          "base_uri": "https://localhost:8080/",
          "height": 136
        }
      },
      "source": [
        "results[['parameters.age', 'risk_score', 'parameters.sex']]\n",
        "new_results = results.rename(columns={'parameters.age':'age','parameters.sex':'sex'})\n",
        "new_results[['age','sex','risk_score']]"
      ],
      "execution_count": 0,
      "outputs": [
        {
          "output_type": "execute_result",
          "data": {
            "text/html": [
              "<div>\n",
              "<style scoped>\n",
              "    .dataframe tbody tr th:only-of-type {\n",
              "        vertical-align: middle;\n",
              "    }\n",
              "\n",
              "    .dataframe tbody tr th {\n",
              "        vertical-align: top;\n",
              "    }\n",
              "\n",
              "    .dataframe thead th {\n",
              "        text-align: right;\n",
              "    }\n",
              "</style>\n",
              "<table border=\"1\" class=\"dataframe\">\n",
              "  <thead>\n",
              "    <tr style=\"text-align: right;\">\n",
              "      <th></th>\n",
              "      <th>age</th>\n",
              "      <th>sex</th>\n",
              "      <th>risk_score</th>\n",
              "    </tr>\n",
              "  </thead>\n",
              "  <tbody>\n",
              "    <tr>\n",
              "      <th>0</th>\n",
              "      <td>90</td>\n",
              "      <td>M</td>\n",
              "      <td>0.857</td>\n",
              "    </tr>\n",
              "    <tr>\n",
              "      <th>1</th>\n",
              "      <td>68</td>\n",
              "      <td>M</td>\n",
              "      <td>0.300</td>\n",
              "    </tr>\n",
              "    <tr>\n",
              "      <th>2</th>\n",
              "      <td>69</td>\n",
              "      <td>F</td>\n",
              "      <td>0.312</td>\n",
              "    </tr>\n",
              "  </tbody>\n",
              "</table>\n",
              "</div>"
            ],
            "text/plain": [
              "   age sex  risk_score\n",
              "0   90   M       0.857\n",
              "1   68   M       0.300\n",
              "2   69   F       0.312"
            ]
          },
          "metadata": {
            "tags": []
          },
          "execution_count": 13
        }
      ]
    }
  ]
}